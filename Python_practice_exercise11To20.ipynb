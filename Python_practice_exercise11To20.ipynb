{
 "cells": [
  {
   "cell_type": "code",
   "execution_count": 1,
   "metadata": {},
   "outputs": [],
   "source": []
  },
  {
   "cell_type": "code",
   "execution_count": 35,
   "metadata": {},
   "outputs": [
    {
     "name": "stdout",
     "output_type": "stream",
     "text": [
      "enter the no: 23\n",
      "[1, 2, 3, 4, 5, 6, 7, 8, 9, 10, 11, 12, 13, 14, 15, 16, 17, 18, 19, 20, 21, 22, 23]\n",
      "[1, 23]\n",
      "its prime no\n"
     ]
    }
   ],
   "source": [
    "#Exercise 11\n",
    "#Ask the user for a number and determine whether the number is prime or not.\n",
    "a=int(input('enter the no: '))\n",
    "lst=list(range(1,a+1))\n",
    "print(lst)\n",
    "divisor=[]\n",
    "for i in lst:\n",
    "    if a%i==0:\n",
    "        divisor.append(i)\n",
    "print(divisor)\n",
    "if len(divisor)<=2:\n",
    "    print('its prime no')\n",
    "else:\n",
    "    print('its not prime no')\n",
    "        "
   ]
  },
  {
   "cell_type": "code",
   "execution_count": 73,
   "metadata": {},
   "outputs": [
    {
     "name": "stdout",
     "output_type": "stream",
     "text": [
      "[1, 2, 3, 4, 5, 6, 7, 8, 9, 10]\n",
      "[1, 10]\n"
     ]
    }
   ],
   "source": [
    "## Exercise 12\n",
    "#Write a program that takes a list of numbers \n",
    "#and makes a new list of only the first \n",
    "#and last elements of the given list.\n",
    "import numpy as np\n",
    "c=[]\n",
    "b=list(np.arange(1,11))\n",
    "print(b)\n",
    "for i in b:\n",
    "    if i==b[0] or i==b[9]:\n",
    "        c.append(i)\n",
    "print(c)\n"
   ]
  },
  {
   "cell_type": "code",
   "execution_count": 10,
   "metadata": {},
   "outputs": [
    {
     "name": "stdout",
     "output_type": "stream",
     "text": [
      "[5, 25]\n"
     ]
    }
   ],
   "source": [
    "## Exercise 12 (Alternate)\n",
    "#Write a program that takes a list of numbers \n",
    "#(for example, a = [5, 10, 15, 20, 25]) and\n",
    "#makes a new list of only the first and last \n",
    "#elements of the given list. For practice, write\n",
    "#this code inside a function.\n",
    "a = [5, 10, 15, 20, 25]\n",
    "b=[]\n",
    "def first_last_element():\n",
    "    b.append(a[0])\n",
    "    b.append(a[-1])\n",
    "    return b\n",
    "print(first_last_element())"
   ]
  },
  {
   "cell_type": "code",
   "execution_count": 11,
   "metadata": {},
   "outputs": [
    {
     "name": "stdout",
     "output_type": "stream",
     "text": [
      "[1, 10]\n"
     ]
    }
   ],
   "source": [
    "## Exercise 12 (Alternate)\n",
    "#Write a program that takes a list of numbers \n",
    "#and makes a new list of only the first \n",
    "#and last elements of the given list.\n",
    "import numpy as np\n",
    "c=[]\n",
    "b=list(np.arange(1,11))\n",
    "def first_last_element():\n",
    "    for i in b:\n",
    "        if i==b[0] or i==b[9]:\n",
    "            c.append(i)\n",
    "    return c\n",
    "print(first_last_element())\n"
   ]
  },
  {
   "cell_type": "code",
   "execution_count": 60,
   "metadata": {},
   "outputs": [
    {
     "name": "stdout",
     "output_type": "stream",
     "text": [
      "[1, 10]\n"
     ]
    }
   ],
   "source": [
    "d=[]\n",
    "d.extend([b[0],b[-1]])\n",
    "print(d)"
   ]
  },
  {
   "cell_type": "code",
   "execution_count": 72,
   "metadata": {},
   "outputs": [
    {
     "data": {
      "text/plain": [
       "[[1, 10]]"
      ]
     },
     "execution_count": 72,
     "metadata": {},
     "output_type": "execute_result"
    }
   ],
   "source": [
    "e=[]\n",
    "e.append([b[0],b[-1]])\n",
    "e"
   ]
  },
  {
   "cell_type": "code",
   "execution_count": 7,
   "metadata": {},
   "outputs": [
    {
     "name": "stdout",
     "output_type": "stream",
     "text": [
      "How many numbers that generates?:15\n",
      "[1, 1, 2, 3, 5, 8, 13, 21, 34, 55, 89, 144, 233, 377, 610]\n"
     ]
    }
   ],
   "source": [
    "#Exercise 13\n",
    "\n",
    "#Write a program that asks the user how many Fibonnaci numbers to generate \n",
    "#and then generates them. \n",
    "#Take this opportunity to think about how you can use functions. \n",
    "#Make sure to ask the user to enter the number of numbers in the sequence to generate.\n",
    "#(Hint: The Fibonnaci seqence is a sequence of numbers \n",
    "#where the next number in the sequence is the sum of the previous two numbers in the sequence. \n",
    "#The sequence looks like this: 1, 1, 2, 3, 5, 8, 13, …)\n",
    "\n",
    "\n",
    "\n",
    "def fibonacci():\n",
    "    num = int(input(\"How many numbers that generates?:\"))\n",
    "    i = 1\n",
    "    if num == 0:\n",
    "        fib = []\n",
    "    elif num == 1:\n",
    "        fib = [1]\n",
    "    elif num == 2:\n",
    "        fib = [1,1]\n",
    "    elif num > 2:\n",
    "        fib = [1,1]\n",
    "        while i < (num - 1):\n",
    "            fib.append(fib[i] + fib[i-1])\n",
    "            i += 1\n",
    "    return fib\n",
    "print(fibonacci())"
   ]
  },
  {
   "cell_type": "code",
   "execution_count": 15,
   "metadata": {},
   "outputs": [
    {
     "data": {
      "text/plain": [
       "{1, 2, 3, 4, 5, 6, 7, 9, 10, 12, 13, 15, 16, 17, 19, 20, 21, 22, 100, 101}"
      ]
     },
     "execution_count": 15,
     "metadata": {},
     "output_type": "execute_result"
    }
   ],
   "source": [
    "#Exercise 14\n",
    "#Write a program (function) that takes a list \n",
    "#and return a new list that contains all the elements of the first list minus all the duplicates\n",
    "\n",
    "\n",
    "\n",
    "\n",
    "g=[1,2,3,4,5,5,6,7,9,10,12,12,13,15,15,100,100,101,16,17,17,19,20,20,21,21,21,21,22]\n",
    "h=lambda x:set(x) \n",
    "h(g)"
   ]
  },
  {
   "cell_type": "code",
   "execution_count": 30,
   "metadata": {},
   "outputs": [
    {
     "data": {
      "text/plain": [
       "['u', 'are', 'how', 'swara', 'hi']"
      ]
     },
     "execution_count": 30,
     "metadata": {},
     "output_type": "execute_result"
    }
   ],
   "source": [
    "#Exercise 15\n",
    "#\n",
    "m='hi swara how are u'\n",
    "m=m.split()\n",
    "m=list(m)\n",
    "m[::-1]"
   ]
  },
  {
   "cell_type": "code",
   "execution_count": 18,
   "metadata": {},
   "outputs": [
    {
     "name": "stdout",
     "output_type": "stream",
     "text": [
      "passward is :kidc2h1j\n"
     ]
    },
    {
     "data": {
      "text/plain": [
       "'kidc2h1j'"
      ]
     },
     "execution_count": 18,
     "metadata": {},
     "output_type": "execute_result"
    }
   ],
   "source": [
    "#Exercise 16\n",
    "\n",
    "n='abcdefghijkl123456'\n",
    "import random\n",
    "p=''.join(random.sample(n,8))\n",
    "p\n",
    "print('passward is :'+ p)"
   ]
  },
  {
   "cell_type": "code",
   "execution_count": 12,
   "metadata": {},
   "outputs": [
    {
     "name": "stdout",
     "output_type": "stream",
     "text": [
      "This is a link\n",
      "Continue reading the main story\n",
      "This is a link\n",
      "Skip to content\n",
      "This is a link\n",
      "Skip to site index\n",
      "This is a link\n",
      "\n",
      "This is a link\n",
      "English\n",
      "This is a link\n",
      "Español\n",
      "This is a link\n",
      "中文\n",
      "This is a link\n",
      "Log In\n",
      "This is a link\n",
      "Log In\n",
      "This is a link\n",
      "Today’s Paper\n"
     ]
    }
   ],
   "source": [
    "#Exercise 17\n",
    "import requests\n",
    "from bs4 import BeautifulSoup\n",
    "response = requests.get('http://www.nytimes.com')\n",
    "doc = BeautifulSoup(response.text, 'html.parser')\n",
    "story = doc.find_all('article', { 'class': 'story' })\n",
    "#print(story)\n",
    "'''for story in story[:10]:\n",
    "    print(\"This is a story\")\n",
    "    headline = story.find('h2', { 'class': 'story-heading' })\n",
    "    print(headline.text)'''\n",
    "    \n",
    "links = doc.find_all('a')\n",
    "\n",
    "for link in links[:10]:\n",
    "    print(\"This is a link\")\n",
    "    print(link.text)"
   ]
  },
  {
   "cell_type": "code",
   "execution_count": null,
   "metadata": {},
   "outputs": [],
   "source": [
    "#Exercise 18 \n",
    "#four digit no is randomly generated and user have to guess that four digit no\n",
    "#for each correct digit out of four, there will 'cow' and for wrong guess digit there will be 'bulk'\n",
    "# if guess is correct then game over\n",
    "import random\n",
    "\n",
    "def compare_numbers(number, user_guess):\n",
    "    cow=0\n",
    "    bull = 0\n",
    "    for i in range(len(number)):\n",
    "        if number[i] == user_guess[i]:\n",
    "            cow+=1\n",
    "        else:\n",
    "            bull+=1\n",
    "    return cow,bull\n",
    "number = str(random.randint(0,9999))\n",
    "print(number)\n",
    "user_guess = input(\"Guess a number\")\n",
    "print(compare_numbers(number,user_guess))"
   ]
  },
  {
   "cell_type": "code",
   "execution_count": null,
   "metadata": {},
   "outputs": [],
   "source": []
  },
  {
   "cell_type": "code",
   "execution_count": 1,
   "metadata": {},
   "outputs": [
    {
     "name": "stdout",
     "output_type": "stream",
     "text": [
      "enter number of elements in list6\n",
      "2\n",
      "3\n",
      "5\n",
      "6\n",
      "10\n",
      "12\n",
      "Enter number to search10\n",
      "element is present at 5\n"
     ]
    }
   ],
   "source": [
    "#Exercise 20(BinarySearchAlgorithm)\n",
    "#Write a function that takes an ordered list of numbers \n",
    "#(a list where the elements are in order from smallest to largest) \n",
    "#and another number. The function decides whether or not the given number\n",
    "#is inside the list and returns (then prints) an appropriate boolean.\n",
    "a=[]\n",
    "n=int(input(\"enter number of elements in list\"))\n",
    "for i in range(0,n):\n",
    "    element=int(input())\n",
    "    a.append(element)\n",
    "    \n",
    "first,last=0,len(a)-1\n",
    "mid=int((first+last)/2)\n",
    "#print(mid)\n",
    "num=int(input(\"Enter number to search\"))\n",
    "while(first<=last):\n",
    "    if (a[mid]<num):\n",
    "        first=mid+1\n",
    "    elif(a[mid]==num):                         #mid=4,,10==10,hence elif executes\n",
    "        print(\"element is present at {}\".format(mid+1))\n",
    "        break\n",
    "    else:\n",
    "        last=mid-1\n",
    "    mid=int((first+last)/2)\n",
    "    if(first>last):\n",
    "        print(\"element is not present\")"
   ]
  },
  {
   "cell_type": "code",
   "execution_count": null,
   "metadata": {},
   "outputs": [],
   "source": []
  },
  {
   "cell_type": "code",
   "execution_count": null,
   "metadata": {},
   "outputs": [],
   "source": []
  },
  {
   "cell_type": "code",
   "execution_count": null,
   "metadata": {},
   "outputs": [],
   "source": []
  }
 ],
 "metadata": {
  "kernelspec": {
   "display_name": "Python 3",
   "language": "python",
   "name": "python3"
  },
  "language_info": {
   "codemirror_mode": {
    "name": "ipython",
    "version": 3
   },
   "file_extension": ".py",
   "mimetype": "text/x-python",
   "name": "python",
   "nbconvert_exporter": "python",
   "pygments_lexer": "ipython3",
   "version": "3.7.1"
  }
 },
 "nbformat": 4,
 "nbformat_minor": 2
}
