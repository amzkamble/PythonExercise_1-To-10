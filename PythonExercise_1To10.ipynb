{
 "cells": [
  {
   "cell_type": "code",
   "execution_count": 1,
   "metadata": {},
   "outputs": [
    {
     "name": "stdout",
     "output_type": "stream",
     "text": [
      "what is ur name: AMOL\n",
      "what is ur age29\n",
      "AMOL,you will be 100 years old in 2091\n"
     ]
    }
   ],
   "source": [
    "#Exercise 1\n",
    "#Create a program that asks the user to enter their\n",
    "#name and their age.\n",
    "#Print out a message addressed to them that tells \n",
    "#them the year that they will turn 100 years old.\n",
    "x=input('what is ur name: ')\n",
    "age1=int(input('what is ur age'))\n",
    "y=(2020-age1)+100\n",
    "print(x+  ',you will be 100 years old in '+str(y))"
   ]
  },
  {
   "cell_type": "markdown",
   "metadata": {},
   "source": [
    "## Exercise 2\n"
   ]
  },
  {
   "cell_type": "code",
   "execution_count": 6,
   "metadata": {},
   "outputs": [
    {
     "name": "stdout",
     "output_type": "stream",
     "text": [
      "enter the no25\n",
      "25is odd\n"
     ]
    }
   ],
   "source": [
    "#Exercise 2\n",
    "#print whether the number is 'odd ' or 'even' \n",
    "a=int(input('enter the no'))\n",
    "if a%2==0:\n",
    "    print(str(a)+ 'is even')\n",
    "else:\n",
    "    print(str(a)+ 'is odd')"
   ]
  },
  {
   "cell_type": "code",
   "execution_count": 18,
   "metadata": {},
   "outputs": [
    {
     "data": {
      "text/plain": [
       "[1, 1, 2, 3]"
      ]
     },
     "execution_count": 18,
     "metadata": {},
     "output_type": "execute_result"
    }
   ],
   "source": [
    "#Exercise 3\n",
    "#Instead of printing the elements one by one, \n",
    "#make a new list that has all the elements less\n",
    "#than 5 from this list in it and print out this new list.\n",
    "#Write this in one line of Python.\n",
    "b=[1,1,2,3,5,8,13,24,55,89,90]\n",
    "c=[]\n",
    "for i in b:\n",
    "    if i<5:\n",
    "        c.append(i)\n",
    "c\n",
    "    \n"
   ]
  },
  {
   "cell_type": "code",
   "execution_count": 26,
   "metadata": {},
   "outputs": [
    {
     "name": "stdout",
     "output_type": "stream",
     "text": [
      "enter no20\n"
     ]
    },
    {
     "data": {
      "text/plain": [
       "[1, 2, 4, 5, 10, 20]"
      ]
     },
     "execution_count": 26,
     "metadata": {},
     "output_type": "execute_result"
    }
   ],
   "source": [
    "#Exercise 4\n",
    "#Create a program that asks the user\n",
    "#for a number and then prints out a list\n",
    "#of all the divisors of that number.\n",
    "d=int(input('enter no'))\n",
    "lst=list(range(1,d+1))\n",
    "divisor=[]\n",
    "for i in lst:\n",
    "    if d%i==0:\n",
    "        divisor.append(i)\n",
    "divisor"
   ]
  },
  {
   "cell_type": "code",
   "execution_count": 1,
   "metadata": {},
   "outputs": [
    {
     "data": {
      "text/plain": [
       "[1, 3, 7, 10, 11, 13, 20]"
      ]
     },
     "execution_count": 1,
     "metadata": {},
     "output_type": "execute_result"
    }
   ],
   "source": [
    "#Exercise 5\n",
    "e=[1,1,3,5,7,8,5,8,5,10,11,12,13,20]\n",
    "f=[1,3,6,7,9,9,11,13,10,20,30]\n",
    "g=[]\n",
    "e=set(e)\n",
    "f=set(f)\n",
    "for i in e:\n",
    "    for element in f:\n",
    "        if i==element:\n",
    "            g.append(i)\n",
    "g"
   ]
  },
  {
   "cell_type": "code",
   "execution_count": 3,
   "metadata": {},
   "outputs": [
    {
     "name": "stdout",
     "output_type": "stream",
     "text": [
      "enter any name:  lol\n",
      "word is palindrome\n"
     ]
    }
   ],
   "source": [
    "#Exercise 6 \n",
    "#Ask the user for a string and print out whether\n",
    "#this string is a palindrome or not. (A palindrome is a \n",
    "#string that reads the same forwards and backwards.)\n",
    "h=input('enter any name:  ')\n",
    "j=h[::-1]#reversing the order of letters\n",
    "if h==j:\n",
    "    print('word is palindrome')"
   ]
  },
  {
   "cell_type": "code",
   "execution_count": 4,
   "metadata": {},
   "outputs": [
    {
     "data": {
      "text/plain": [
       "[4, 16, 36, 64, 100]"
      ]
     },
     "execution_count": 4,
     "metadata": {},
     "output_type": "execute_result"
    }
   ],
   "source": [
    "#Exercise 7\n",
    "a=[1,4,9,16,25,36,49,64,81,100]\n",
    "b=[]\n",
    "for i in a:\n",
    "    if i%2==0:\n",
    "        b.append(i)\n",
    "b\n",
    "        "
   ]
  },
  {
   "cell_type": "code",
   "execution_count": 6,
   "metadata": {},
   "outputs": [
    {
     "data": {
      "text/plain": [
       "[4, 16, 36, 64, 100]"
      ]
     },
     "execution_count": 6,
     "metadata": {},
     "output_type": "execute_result"
    }
   ],
   "source": [
    "#Exercise 7(one line code)\n",
    "a=[1,4,9,16,25,36,49,64,81,100]\n",
    "c=[i for i in a if i%2==0]\n",
    "c"
   ]
  },
  {
   "cell_type": "code",
   "execution_count": 7,
   "metadata": {},
   "outputs": [
    {
     "name": "stdout",
     "output_type": "stream",
     "text": [
      "Player 1: enter your choicerock\n",
      "Player 2: enter your choicepaper\n",
      "Paper wins!\n",
      "do you want to continue(y/n)n\n"
     ]
    }
   ],
   "source": [
    "#Exercise 8 \n",
    "#Make a two-player Rock-Paper-Scissors game. \n",
    "#(Hint: Ask for player plays (using input),\n",
    "#compare them, print out a message of congratulations\n",
    "#to the winner, and ask if the players want to start a new game)\n",
    "'''Remember the rules:\n",
    "\n",
    "Rock beats scissors\n",
    "Scissors beats paper\n",
    "Paper beats rock '''\n",
    "\n",
    "ch=\"y\"\n",
    "while(ch ==\"y\"):\n",
    "    u1=input(\"Player 1: enter your choice\")\n",
    "    u2=input(\"Player 2: enter your choice\")\n",
    "    if u1 == u2:\n",
    "        print(\"It's a tie!\")\n",
    "    elif u1 == 'rock':\n",
    "        if u2 == 'scissors':\n",
    "            print(\"Rock wins!\")\n",
    "        else:\n",
    "            print(\"Paper wins!\")\n",
    "    elif u1 == 'scissors':\n",
    "        if u2 == 'paper':\n",
    "            print(\"Scissors win!\")\n",
    "        else:\n",
    "            print(\"Rock wins!\")\n",
    "    elif u1 == 'paper':\n",
    "        if u2 == 'rock':\n",
    "            print(\"Paper wins!\")\n",
    "        else:\n",
    "            print(\"Scissors win!\")\n",
    "    ch=input(\"do you want to continue(y/n)\")"
   ]
  },
  {
   "cell_type": "code",
   "execution_count": 8,
   "metadata": {},
   "outputs": [
    {
     "name": "stdout",
     "output_type": "stream",
     "text": [
      "guess the no:9\n",
      "correct number is:8\n",
      "guess is too high\n"
     ]
    }
   ],
   "source": [
    "#Exercise 9 \n",
    "#Generate a random number between 1 and 9 \n",
    "#(including 1 and 9). Ask the user to guess the number, \n",
    "#then tell them whether they guessed too low, too high, \n",
    "#or exactly right.\n",
    "import numpy as np\n",
    "d=np.random.randint(1,10)\n",
    "e=int(input('guess the no:'))\n",
    "#for x in d:\n",
    "print('correct number is:'+str(d))\n",
    "if d==e:\n",
    "    print('congratulations your guess is right')\n",
    "elif e>9 or e<1:\n",
    "    print('your guess is out of range')\n",
    "elif e<d:\n",
    "    print('guess is too low')\n",
    "elif e>d:\n",
    "    print('guess is too high')\n",
    "else:\n",
    "    print('try another guess')\n",
    "    \n"
   ]
  },
  {
   "cell_type": "code",
   "execution_count": 9,
   "metadata": {},
   "outputs": [
    {
     "name": "stdout",
     "output_type": "stream",
     "text": [
      "[1, 2, 3, 5, 8, 13]\n"
     ]
    }
   ],
   "source": [
    "#Exercise 10\n",
    "#write a program that returns a list that contains only the\n",
    "#elements that are common between the lists (without duplicates). \n",
    "#Make sure your program works on two lists of different sizes.\n",
    "#Write this in one line of Python using at least one list comprehension.\n",
    "a = [1, 2, 3, 5, 8, 13, 21, 34, 55, 89]\n",
    "b = [1, 2, 3, 4, 5, 6, 7, 8, 9, 10, 11, 12, 13]\n",
    "c=[j for i in a for j in b if i==j]\n",
    "print(c)"
   ]
  }
 ],
 "metadata": {
  "kernelspec": {
   "display_name": "Python 3",
   "language": "python",
   "name": "python3"
  },
  "language_info": {
   "codemirror_mode": {
    "name": "ipython",
    "version": 3
   },
   "file_extension": ".py",
   "mimetype": "text/x-python",
   "name": "python",
   "nbconvert_exporter": "python",
   "pygments_lexer": "ipython3",
   "version": "3.7.1"
  }
 },
 "nbformat": 4,
 "nbformat_minor": 2
}
